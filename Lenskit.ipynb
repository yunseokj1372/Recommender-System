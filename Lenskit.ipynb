{
 "cells": [
  {
   "cell_type": "code",
   "execution_count": 5,
   "id": "naval-chapel",
   "metadata": {},
   "outputs": [
    {
     "name": "stdout",
     "output_type": "stream",
     "text": [
      "Requirement already satisfied: lenskit in c:\\users\\yun\\anaconda3\\lib\\site-packages (0.14.1)\n",
      "Requirement already satisfied: cffi>=1.12.2 in c:\\users\\yun\\anaconda3\\lib\\site-packages (from lenskit) (1.14.5)\n",
      "Requirement already satisfied: seedbank>=0.1.0 in c:\\users\\yun\\anaconda3\\lib\\site-packages (from lenskit) (0.1.2)\n",
      "Requirement already satisfied: numpy>=1.17 in c:\\users\\yun\\anaconda3\\lib\\site-packages (from lenskit) (1.20.1)\n",
      "Requirement already satisfied: csr>=0.3.1 in c:\\users\\yun\\anaconda3\\lib\\site-packages (from lenskit) (0.4.1)\n",
      "Requirement already satisfied: scipy>=1.2 in c:\\users\\yun\\anaconda3\\lib\\site-packages (from lenskit) (1.7.1)\n",
      "Requirement already satisfied: psutil>=5 in c:\\users\\yun\\anaconda3\\lib\\site-packages (from lenskit) (5.8.0)\n",
      "Requirement already satisfied: pandas==1.*,>=1.0 in c:\\users\\yun\\anaconda3\\lib\\site-packages (from lenskit) (1.2.4)\n",
      "Requirement already satisfied: numba<0.56,>=0.51 in c:\\users\\yun\\anaconda3\\lib\\site-packages (from lenskit) (0.53.1)\n",
      "Requirement already satisfied: binpickle>=0.3.2 in c:\\users\\yun\\anaconda3\\lib\\site-packages (from lenskit) (0.3.4)\n",
      "Requirement already satisfied: pytz>=2017.3 in c:\\users\\yun\\anaconda3\\lib\\site-packages (from pandas==1.*,>=1.0->lenskit) (2021.1)\n",
      "Requirement already satisfied: python-dateutil>=2.7.3 in c:\\users\\yun\\anaconda3\\lib\\site-packages (from pandas==1.*,>=1.0->lenskit) (2.8.1)\n",
      "Requirement already satisfied: msgpack>=1.0 in c:\\users\\yun\\anaconda3\\lib\\site-packages (from binpickle>=0.3.2->lenskit) (1.0.2)\n",
      "Requirement already satisfied: pycparser in c:\\users\\yun\\anaconda3\\lib\\site-packages (from cffi>=1.12.2->lenskit) (2.20)\n",
      "Requirement already satisfied: llvmlite<0.37,>=0.36.0rc1 in c:\\users\\yun\\anaconda3\\lib\\site-packages (from numba<0.56,>=0.51->lenskit) (0.36.0)\n",
      "Requirement already satisfied: setuptools in c:\\users\\yun\\anaconda3\\lib\\site-packages (from numba<0.56,>=0.51->lenskit) (52.0.0.post20210125)\n",
      "Requirement already satisfied: six>=1.5 in c:\\users\\yun\\anaconda3\\lib\\site-packages (from python-dateutil>=2.7.3->pandas==1.*,>=1.0->lenskit) (1.15.0)\n",
      "Requirement already satisfied: anyconfig in c:\\users\\yun\\anaconda3\\lib\\site-packages (from seedbank>=0.1.0->lenskit) (0.13.0)\n",
      "Note: you may need to restart the kernel to use updated packages.\n",
      "Requirement already satisfied: pyarrow in c:\\users\\yun\\anaconda3\\lib\\site-packages (8.0.0)\n",
      "Requirement already satisfied: numpy>=1.16.6 in c:\\users\\yun\\anaconda3\\lib\\site-packages (from pyarrow) (1.20.1)\n",
      "Note: you may need to restart the kernel to use updated packages.\n"
     ]
    }
   ],
   "source": [
    "%pip install lenskit\n",
    "%pip install pyarrow"
   ]
  },
  {
   "cell_type": "code",
   "execution_count": 40,
   "id": "academic-prescription",
   "metadata": {},
   "outputs": [],
   "source": [
    "from lenskit import batch, topn, util\n",
    "from lenskit import crossfold as xf\n",
    "from lenskit.algorithms import Recommender, als, item_knn as knn\n",
    "from lenskit import topn\n",
    "import time"
   ]
  },
  {
   "cell_type": "code",
   "execution_count": 41,
   "id": "handled-vegetable",
   "metadata": {},
   "outputs": [],
   "source": [
    "import pandas as pd"
   ]
  },
  {
   "cell_type": "code",
   "execution_count": 42,
   "id": "enhanced-sunset",
   "metadata": {},
   "outputs": [],
   "source": [
    "# ratings = pd.read_csv('/scratch/work/courses/DSGA1004-2021/movielens/ml-latest-small/ratings.csv')\n",
    "ratings_train = pd.read_parquet('train_combined_large_set.parquet')\n",
    "ratings_val = pd.read_parquet('val_large_set.parquet')"
   ]
  },
  {
   "cell_type": "code",
   "execution_count": 43,
   "id": "portable-arizona",
   "metadata": {},
   "outputs": [
    {
     "data": {
      "text/html": [
       "<div>\n",
       "<style scoped>\n",
       "    .dataframe tbody tr th:only-of-type {\n",
       "        vertical-align: middle;\n",
       "    }\n",
       "\n",
       "    .dataframe tbody tr th {\n",
       "        vertical-align: top;\n",
       "    }\n",
       "\n",
       "    .dataframe thead th {\n",
       "        text-align: right;\n",
       "    }\n",
       "</style>\n",
       "<table border=\"1\" class=\"dataframe\">\n",
       "  <thead>\n",
       "    <tr style=\"text-align: right;\">\n",
       "      <th></th>\n",
       "      <th>userId</th>\n",
       "      <th>movieId</th>\n",
       "      <th>rating</th>\n",
       "      <th>timestamp</th>\n",
       "    </tr>\n",
       "  </thead>\n",
       "  <tbody>\n",
       "    <tr>\n",
       "      <th>0</th>\n",
       "      <td>148</td>\n",
       "      <td>1</td>\n",
       "      <td>4.0</td>\n",
       "      <td>858751867</td>\n",
       "    </tr>\n",
       "    <tr>\n",
       "      <th>1</th>\n",
       "      <td>148</td>\n",
       "      <td>3</td>\n",
       "      <td>3.0</td>\n",
       "      <td>858751912</td>\n",
       "    </tr>\n",
       "    <tr>\n",
       "      <th>2</th>\n",
       "      <td>148</td>\n",
       "      <td>5</td>\n",
       "      <td>2.0</td>\n",
       "      <td>858751912</td>\n",
       "    </tr>\n",
       "    <tr>\n",
       "      <th>3</th>\n",
       "      <td>148</td>\n",
       "      <td>7</td>\n",
       "      <td>3.0</td>\n",
       "      <td>858751912</td>\n",
       "    </tr>\n",
       "    <tr>\n",
       "      <th>4</th>\n",
       "      <td>148</td>\n",
       "      <td>17</td>\n",
       "      <td>4.0</td>\n",
       "      <td>858751867</td>\n",
       "    </tr>\n",
       "    <tr>\n",
       "      <th>...</th>\n",
       "      <td>...</td>\n",
       "      <td>...</td>\n",
       "      <td>...</td>\n",
       "      <td>...</td>\n",
       "    </tr>\n",
       "    <tr>\n",
       "      <th>18460066</th>\n",
       "      <td>282369</td>\n",
       "      <td>148626</td>\n",
       "      <td>3.0</td>\n",
       "      <td>1480705064</td>\n",
       "    </tr>\n",
       "    <tr>\n",
       "      <th>18460067</th>\n",
       "      <td>282369</td>\n",
       "      <td>7153</td>\n",
       "      <td>1.0</td>\n",
       "      <td>1480705071</td>\n",
       "    </tr>\n",
       "    <tr>\n",
       "      <th>18460068</th>\n",
       "      <td>282369</td>\n",
       "      <td>6377</td>\n",
       "      <td>2.0</td>\n",
       "      <td>1480705088</td>\n",
       "    </tr>\n",
       "    <tr>\n",
       "      <th>18460069</th>\n",
       "      <td>282369</td>\n",
       "      <td>7361</td>\n",
       "      <td>5.0</td>\n",
       "      <td>1480705095</td>\n",
       "    </tr>\n",
       "    <tr>\n",
       "      <th>18460070</th>\n",
       "      <td>282369</td>\n",
       "      <td>8961</td>\n",
       "      <td>3.0</td>\n",
       "      <td>1480705101</td>\n",
       "    </tr>\n",
       "  </tbody>\n",
       "</table>\n",
       "<p>18460071 rows × 4 columns</p>\n",
       "</div>"
      ],
      "text/plain": [
       "          userId  movieId  rating   timestamp\n",
       "0            148        1     4.0   858751867\n",
       "1            148        3     3.0   858751912\n",
       "2            148        5     2.0   858751912\n",
       "3            148        7     3.0   858751912\n",
       "4            148       17     4.0   858751867\n",
       "...          ...      ...     ...         ...\n",
       "18460066  282369   148626     3.0  1480705064\n",
       "18460067  282369     7153     1.0  1480705071\n",
       "18460068  282369     6377     2.0  1480705088\n",
       "18460069  282369     7361     5.0  1480705095\n",
       "18460070  282369     8961     3.0  1480705101\n",
       "\n",
       "[18460071 rows x 4 columns]"
      ]
     },
     "execution_count": 43,
     "metadata": {},
     "output_type": "execute_result"
    }
   ],
   "source": [
    "ratings_train"
   ]
  },
  {
   "cell_type": "code",
   "execution_count": 44,
   "id": "sunrise-breach",
   "metadata": {},
   "outputs": [],
   "source": [
    "ratings_train.columns = ratings_train.columns.str.replace('userId', 'user')\n",
    "ratings_train.rename(columns = {'userId':'user', 'movieId':'item'}, inplace = True)\n",
    "ratings_val.columns = ratings_val.columns.str.replace('userId', 'user')\n",
    "ratings_val.rename(columns = {'userId':'user', 'movieId':'item'}, inplace = True)"
   ]
  },
  {
   "cell_type": "code",
   "execution_count": 45,
   "id": "interim-asset",
   "metadata": {},
   "outputs": [
    {
     "data": {
      "text/html": [
       "<div>\n",
       "<style scoped>\n",
       "    .dataframe tbody tr th:only-of-type {\n",
       "        vertical-align: middle;\n",
       "    }\n",
       "\n",
       "    .dataframe tbody tr th {\n",
       "        vertical-align: top;\n",
       "    }\n",
       "\n",
       "    .dataframe thead th {\n",
       "        text-align: right;\n",
       "    }\n",
       "</style>\n",
       "<table border=\"1\" class=\"dataframe\">\n",
       "  <thead>\n",
       "    <tr style=\"text-align: right;\">\n",
       "      <th></th>\n",
       "      <th>user</th>\n",
       "      <th>timestamp</th>\n",
       "      <th>item</th>\n",
       "      <th>rating</th>\n",
       "    </tr>\n",
       "  </thead>\n",
       "  <tbody>\n",
       "    <tr>\n",
       "      <th>0</th>\n",
       "      <td>463</td>\n",
       "      <td>841895884</td>\n",
       "      <td>16</td>\n",
       "      <td>3.0</td>\n",
       "    </tr>\n",
       "    <tr>\n",
       "      <th>1</th>\n",
       "      <td>463</td>\n",
       "      <td>841895884</td>\n",
       "      <td>213</td>\n",
       "      <td>3.0</td>\n",
       "    </tr>\n",
       "    <tr>\n",
       "      <th>2</th>\n",
       "      <td>463</td>\n",
       "      <td>841895951</td>\n",
       "      <td>308</td>\n",
       "      <td>4.0</td>\n",
       "    </tr>\n",
       "    <tr>\n",
       "      <th>3</th>\n",
       "      <td>463</td>\n",
       "      <td>841895981</td>\n",
       "      <td>105</td>\n",
       "      <td>2.0</td>\n",
       "    </tr>\n",
       "    <tr>\n",
       "      <th>4</th>\n",
       "      <td>463</td>\n",
       "      <td>841896053</td>\n",
       "      <td>246</td>\n",
       "      <td>3.0</td>\n",
       "    </tr>\n",
       "    <tr>\n",
       "      <th>...</th>\n",
       "      <td>...</td>\n",
       "      <td>...</td>\n",
       "      <td>...</td>\n",
       "      <td>...</td>\n",
       "    </tr>\n",
       "    <tr>\n",
       "      <th>4689038</th>\n",
       "      <td>282930</td>\n",
       "      <td>849119359</td>\n",
       "      <td>589</td>\n",
       "      <td>4.0</td>\n",
       "    </tr>\n",
       "    <tr>\n",
       "      <th>4689039</th>\n",
       "      <td>282930</td>\n",
       "      <td>849119360</td>\n",
       "      <td>377</td>\n",
       "      <td>3.0</td>\n",
       "    </tr>\n",
       "    <tr>\n",
       "      <th>4689040</th>\n",
       "      <td>282930</td>\n",
       "      <td>849119360</td>\n",
       "      <td>454</td>\n",
       "      <td>4.0</td>\n",
       "    </tr>\n",
       "    <tr>\n",
       "      <th>4689041</th>\n",
       "      <td>282930</td>\n",
       "      <td>849123746</td>\n",
       "      <td>47</td>\n",
       "      <td>4.0</td>\n",
       "    </tr>\n",
       "    <tr>\n",
       "      <th>4689042</th>\n",
       "      <td>282930</td>\n",
       "      <td>849123746</td>\n",
       "      <td>364</td>\n",
       "      <td>3.0</td>\n",
       "    </tr>\n",
       "  </tbody>\n",
       "</table>\n",
       "<p>4689043 rows × 4 columns</p>\n",
       "</div>"
      ],
      "text/plain": [
       "           user  timestamp  item  rating\n",
       "0           463  841895884    16     3.0\n",
       "1           463  841895884   213     3.0\n",
       "2           463  841895951   308     4.0\n",
       "3           463  841895981   105     2.0\n",
       "4           463  841896053   246     3.0\n",
       "...         ...        ...   ...     ...\n",
       "4689038  282930  849119359   589     4.0\n",
       "4689039  282930  849119360   377     3.0\n",
       "4689040  282930  849119360   454     4.0\n",
       "4689041  282930  849123746    47     4.0\n",
       "4689042  282930  849123746   364     3.0\n",
       "\n",
       "[4689043 rows x 4 columns]"
      ]
     },
     "execution_count": 45,
     "metadata": {},
     "output_type": "execute_result"
    }
   ],
   "source": [
    "ratings_val"
   ]
  },
  {
   "cell_type": "code",
   "execution_count": 46,
   "id": "loose-feedback",
   "metadata": {},
   "outputs": [],
   "source": [
    "algo_ii = knn.ItemItem(20)\n",
    "algo_als = als.BiasedMF(50,iterations=15)"
   ]
  },
  {
   "cell_type": "code",
   "execution_count": 47,
   "id": "peripheral-active",
   "metadata": {},
   "outputs": [],
   "source": [
    "def eval(aname, algo, train, test):\n",
    "    fittable = util.clone(algo)\n",
    "    fittable = Recommender.adapt(fittable)\n",
    "    fittable.fit(train)\n",
    "    users = test.user.unique()\n",
    "    # now we run the recommender\n",
    "    recs = batch.recommend(fittable, users, 100)\n",
    "    # add the algorithm name for analyzability\n",
    "    recs['Algorithm'] = aname\n",
    "    return recs"
   ]
  },
  {
   "cell_type": "code",
   "execution_count": 48,
   "id": "metric-angel",
   "metadata": {},
   "outputs": [
    {
     "name": "stdout",
     "output_type": "stream",
     "text": [
      "----- %s seconds ----- 590.5163872241974\n"
     ]
    }
   ],
   "source": [
    "\n",
    "start_time = time.time()\n",
    "\n",
    "# rec_item = eval('ItemItem',algo_ii, ratings_train, ratings_val)\n",
    "rec_ALS = eval('ALS', algo_als, ratings_train, ratings_val)\n",
    "    \n",
    "    \n",
    "finish_time = time.time()\n",
    "print(\"----- %s seconds -----\", finish_time - start_time)"
   ]
  },
  {
   "cell_type": "code",
   "execution_count": 49,
   "id": "varying-strengthening",
   "metadata": {},
   "outputs": [
    {
     "data": {
      "text/html": [
       "<div>\n",
       "<style scoped>\n",
       "    .dataframe tbody tr th:only-of-type {\n",
       "        vertical-align: middle;\n",
       "    }\n",
       "\n",
       "    .dataframe tbody tr th {\n",
       "        vertical-align: top;\n",
       "    }\n",
       "\n",
       "    .dataframe thead th {\n",
       "        text-align: right;\n",
       "    }\n",
       "</style>\n",
       "<table border=\"1\" class=\"dataframe\">\n",
       "  <thead>\n",
       "    <tr style=\"text-align: right;\">\n",
       "      <th></th>\n",
       "      <th></th>\n",
       "      <th>nrecs</th>\n",
       "      <th>ndcg</th>\n",
       "    </tr>\n",
       "    <tr>\n",
       "      <th>Algorithm</th>\n",
       "      <th>user</th>\n",
       "      <th></th>\n",
       "      <th></th>\n",
       "    </tr>\n",
       "  </thead>\n",
       "  <tbody>\n",
       "    <tr>\n",
       "      <th rowspan=\"5\" valign=\"top\">ALS</th>\n",
       "      <th>463</th>\n",
       "      <td>100</td>\n",
       "      <td>0.003703</td>\n",
       "    </tr>\n",
       "    <tr>\n",
       "      <th>833</th>\n",
       "      <td>100</td>\n",
       "      <td>0.000000</td>\n",
       "    </tr>\n",
       "    <tr>\n",
       "      <th>1591</th>\n",
       "      <td>100</td>\n",
       "      <td>0.000000</td>\n",
       "    </tr>\n",
       "    <tr>\n",
       "      <th>2866</th>\n",
       "      <td>100</td>\n",
       "      <td>0.000000</td>\n",
       "    </tr>\n",
       "    <tr>\n",
       "      <th>3175</th>\n",
       "      <td>100</td>\n",
       "      <td>0.000000</td>\n",
       "    </tr>\n",
       "  </tbody>\n",
       "</table>\n",
       "</div>"
      ],
      "text/plain": [
       "                nrecs      ndcg\n",
       "Algorithm user                 \n",
       "ALS       463     100  0.003703\n",
       "          833     100  0.000000\n",
       "          1591    100  0.000000\n",
       "          2866    100  0.000000\n",
       "          3175    100  0.000000"
      ]
     },
     "execution_count": 49,
     "metadata": {},
     "output_type": "execute_result"
    }
   ],
   "source": [
    "rla = topn.RecListAnalysis()\n",
    "rla.add_metric(topn.ndcg)\n",
    "results_ALS = rla.compute(rec_ALS, ratings_val)\n",
    "results_ALS.head()"
   ]
  },
  {
   "cell_type": "code",
   "execution_count": 50,
   "id": "chemical-publication",
   "metadata": {},
   "outputs": [
    {
     "data": {
      "text/plain": [
       "Algorithm\n",
       "ALS    0.034445\n",
       "Name: ndcg, dtype: float64"
      ]
     },
     "execution_count": 50,
     "metadata": {},
     "output_type": "execute_result"
    }
   ],
   "source": [
    "results_ALS.groupby('Algorithm').ndcg.mean()"
   ]
  },
  {
   "cell_type": "code",
   "execution_count": 51,
   "id": "binary-denial",
   "metadata": {},
   "outputs": [
    {
     "data": {
      "text/plain": [
       "<AxesSubplot:xlabel='Algorithm'>"
      ]
     },
     "execution_count": 51,
     "metadata": {},
     "output_type": "execute_result"
    },
    {
     "data": {
      "image/png": "[encoded data removed]",
      "text/plain": [
       "<Figure size 432x288 with 1 Axes>"
      ]
     },
     "metadata": {
      "needs_background": "light"
     },
     "output_type": "display_data"
    }
   ],
   "source": [
    "results_ALS.groupby('Algorithm').ndcg.mean().plot.bar()"
   ]
  },
  {
   "cell_type": "code",
   "execution_count": null,
   "id": "separated-reality",
   "metadata": {},
   "outputs": [],
   "source": []
  }
 ],
 "metadata": {
  "kernelspec": {
   "display_name": "Python 3",
   "language": "python",
   "name": "python3"
  },
  "language_info": {
   "codemirror_mode": {
    "name": "ipython",
    "version": 3
   },
   "file_extension": ".py",
   "mimetype": "text/x-python",
   "name": "python",
   "nbconvert_exporter": "python",
   "pygments_lexer": "ipython3",
   "version": "3.8.8"
  }
 },
 "nbformat": 4,
 "nbformat_minor": 5
}
